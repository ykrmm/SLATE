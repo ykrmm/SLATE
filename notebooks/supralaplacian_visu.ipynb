{
 "cells": [
  {
   "cell_type": "markdown",
   "metadata": {},
   "source": [
    "# Different visualisation for SupraLaplacian "
   ]
  },
  {
   "cell_type": "code",
   "execution_count": null,
   "metadata": {},
   "outputs": [],
   "source": [
    "import networkx as nx\n",
    "import matplotlib.pyplot as plt\n",
    "import numpy as np \n",
    "from scipy.sparse.linalg import eigsh\n",
    "from scipy.linalg import block_diag"
   ]
  },
  {
   "cell_type": "markdown",
   "metadata": {},
   "source": [
    "## Supra-Laplacian with isolated nodes"
   ]
  },
  {
   "cell_type": "code",
   "execution_count": null,
   "metadata": {},
   "outputs": [],
   "source": [
    "G1 =  nx.erdos_renyi_graph(10, 0.4)\n",
    "G2 =  nx.erdos_renyi_graph(10, 0.4)\n",
    "G3 = nx.erdos_renyi_graph(10, 0.4)"
   ]
  },
  {
   "cell_type": "code",
   "execution_count": null,
   "metadata": {},
   "outputs": [],
   "source": [
    "# check if G1,G2,G3 are connected\n",
    "print(nx.is_connected(G1))\n",
    "print(nx.is_connected(G2))\n",
    "print(nx.is_connected(G3))"
   ]
  },
  {
   "cell_type": "code",
   "execution_count": null,
   "metadata": {},
   "outputs": [],
   "source": [
    "# Add isolated nodes in G1,G2,G3\n",
    "G1.add_node(10)\n",
    "G1.add_node(11)\n",
    "G1.add_node(12)\n",
    "G2.add_node(10)\n",
    "G2.add_node(11)\n",
    "G2.add_node(12)\n",
    "G3.add_node(10)\n",
    "G3.add_node(11)\n",
    "G3.add_node(12)\n",
    "# check if G1,G2,G3 are connected\n",
    "print(nx.is_connected(G1))\n",
    "print(nx.is_connected(G2))\n",
    "print(nx.is_connected(G3))\n",
    "adj_matrix1 = nx.adjacency_matrix(G1).todense()\n",
    "adj_matrix2 = nx.adjacency_matrix(G2).todense()\n",
    "adj_matrix3 = nx.adjacency_matrix(G3).todense()\n",
    "sup_adj_matrix = block_diag(adj_matrix1,adj_matrix2,adj_matrix3)\n",
    "\n",
    "# generate graph from adj_matrix\n",
    "sup_G = nx.from_numpy_array(sup_adj_matrix)"
   ]
  },
  {
   "cell_type": "code",
   "execution_count": null,
   "metadata": {},
   "outputs": [],
   "source": [
    "sup_lap = nx.laplacian_matrix(sup_G).toarray().astype(np.float32)\n",
    "eig_vals, eig_vecs = eigsh(sup_lap,k=69,\n",
    "                which='SA',\n",
    "                return_eigenvectors=True,)"
   ]
  },
  {
   "cell_type": "markdown",
   "metadata": {},
   "source": [
    "## Visu supra laplacien"
   ]
  },
  {
   "cell_type": "code",
   "execution_count": null,
   "metadata": {},
   "outputs": [],
   "source": [
    "from matplotlib.colors import LinearSegmentedColormap"
   ]
  },
  {
   "cell_type": "code",
   "execution_count": null,
   "metadata": {},
   "outputs": [],
   "source": [
    "def plot_supragraph_laplacian(sup_G,val_propre,vec_propre,pos):\n",
    "    cmap = LinearSegmentedColormap.from_list(\n",
    "        \"custom_cmap\", [\"purple\", \"white\", \"green\"], N=256)\n",
    "    fig, ax = plt.subplots(figsize=(8, 8))  # Create a figure and an axes\n",
    "    nx.draw(sup_G, pos=pos, node_color=vec_propre, cmap=cmap, vmin=-1, vmax=1,edgecolors='black', with_labels=True, ax=ax,node_size=800)\n",
    "    \n",
    "    # Create a ScalarMappable object\n",
    "    sm = plt.cm.ScalarMappable(cmap=cmap, norm=plt.Normalize(vmin = -1, vmax=1))\n",
    "    sm.set_array([])\n",
    "    \n",
    "    # Add the colorbar to the figure\n",
    "    fig.colorbar(sm, ax=ax, orientation='vertical')  # Use the axes for the colorbar"
   ]
  },
  {
   "cell_type": "markdown",
   "metadata": {},
   "source": [
    "## Generate position for the node "
   ]
  },
  {
   "cell_type": "code",
   "execution_count": null,
   "metadata": {},
   "outputs": [],
   "source": [
    "# Save pickle fixed_layout \n",
    "import pickle\n",
    "import os\n",
    "if os.path.exists('fixed_layout.pkl'):\n",
    "    with open('fixed_layout.pkl', 'rb') as f:\n",
    "        fixed_layout = pickle.load(f)\n",
    "else:\n",
    "    fixed_layout = nx.spring_layout(G1,seed=42,k=0.9)\n",
    "    with open('fixed_layout.pkl', 'wb') as f:\n",
    "        pickle.dump(fixed_layout, f)\n"
   ]
  },
  {
   "cell_type": "code",
   "execution_count": null,
   "metadata": {},
   "outputs": [],
   "source": [
    "\n",
    "new_fixed_layout = dict()\n",
    "N = len(fixed_layout)\n",
    "for i in range(N):\n",
    "    y,x = list(fixed_layout.items())[i][1]\n",
    "    shift = 2.3\n",
    "    pos2 =  np.array([x+shift,y])\n",
    "    pos3 = np.array([x+ 2*shift,y ])\n",
    "    new_fixed_layout[i] = np.array([x,y])\n",
    "    new_fixed_layout[i+N] = pos2\n",
    "    new_fixed_layout[i+2*N] = pos3 \n"
   ]
  },
  {
   "cell_type": "markdown",
   "metadata": {},
   "source": [
    "## Time connection | Isolated Nodes | No virtual nodes (visu 1)"
   ]
  },
  {
   "cell_type": "code",
   "execution_count": null,
   "metadata": {},
   "outputs": [],
   "source": [
    "\n",
    "for i in range(N):\n",
    "    sup_G.add_edge(i,i+N)\n",
    "    sup_G.add_edge(i+N,i+2*N)"
   ]
  },
  {
   "cell_type": "code",
   "execution_count": null,
   "metadata": {},
   "outputs": [],
   "source": [
    "sup_lap = nx.laplacian_matrix(sup_G).toarray().astype(np.float32)\n",
    "eig_vals, eig_vecs = eigsh(sup_lap,k=69,\n",
    "                which='SA',\n",
    "                return_eigenvectors=True,)"
   ]
  },
  {
   "cell_type": "code",
   "execution_count": null,
   "metadata": {},
   "outputs": [],
   "source": [
    "for i in range(39):\n",
    "    plot_supragraph_laplacian(sup_G,eig_vals,eig_vecs[:,i],new_fixed_layout)\n",
    "    plt.title(f\"{i} th eigen vector with eigen value {eig_vals[i]:.2f}\") \n",
    "    plt.savefig(f\"Visu/Visu1/eigen_{i}.png\")\n",
    "    plt.show()\n",
    "    plt.close()"
   ]
  },
  {
   "cell_type": "markdown",
   "metadata": {},
   "source": [
    "## Virtual nodes + time connections (visu2)"
   ]
  },
  {
   "cell_type": "code",
   "execution_count": null,
   "metadata": {},
   "outputs": [],
   "source": [
    "len(sup_G.nodes)"
   ]
  },
  {
   "cell_type": "code",
   "execution_count": null,
   "metadata": {},
   "outputs": [],
   "source": [
    "N = len(sup_G.nodes)\n",
    "for i in range(3):\n",
    "    sup_G.add_node(N+i)"
   ]
  },
  {
   "cell_type": "code",
   "execution_count": null,
   "metadata": {},
   "outputs": [],
   "source": [
    "for i in range(int(N/3)):\n",
    "    sup_G.add_edge(i,N)\n",
    "    sup_G.add_edge(i+int(N/3),N+1)\n",
    "    sup_G.add_edge(i+2*int(N/3),N+2)"
   ]
  },
  {
   "cell_type": "code",
   "execution_count": null,
   "metadata": {},
   "outputs": [],
   "source": [
    "sup_lap = nx.laplacian_matrix(sup_G).toarray().astype(np.float32)\n",
    "eig_vals, eig_vecs = eigsh(sup_lap,k=69,\n",
    "                which='SA',\n",
    "                return_eigenvectors=True,)"
   ]
  },
  {
   "cell_type": "code",
   "execution_count": null,
   "metadata": {},
   "outputs": [],
   "source": [
    "len(eig_vals)"
   ]
  },
  {
   "cell_type": "code",
   "execution_count": null,
   "metadata": {},
   "outputs": [],
   "source": [
    "new_fixed_layout[N] = np.array([0.05,0.5])\n",
    "new_fixed_layout[N+1] = np.array([2.3,0.5])\n",
    "new_fixed_layout[N+2] = np.array([4.6,0.5])"
   ]
  },
  {
   "cell_type": "code",
   "execution_count": null,
   "metadata": {},
   "outputs": [],
   "source": [
    "\n",
    "for i in range(len(sup_G.nodes)):\n",
    "    plot_supragraph_laplacian(sup_G,eig_vals,eig_vecs[:,i],new_fixed_layout)\n",
    "    plt.title(f\"{i} th eigen vector with eigen value {eig_vals[i]:.2f}\") \n",
    "    plt.savefig(f\"Visu/Visu2/eigen_{i}.png\")\n",
    "    plt.show()\n",
    "    plt.close()"
   ]
  },
  {
   "cell_type": "markdown",
   "metadata": {},
   "source": [
    "## No isolated nodes , virtual nodes and temporal connections (SLATE method) (visu 3). "
   ]
  },
  {
   "cell_type": "code",
   "execution_count": null,
   "metadata": {},
   "outputs": [],
   "source": [
    "sup_G.remove_node(10)\n",
    "sup_G.remove_node(11)\n",
    "sup_G.remove_node(12)\n",
    "sup_G.remove_node(23)\n",
    "sup_G.remove_node(24)\n",
    "sup_G.remove_node(25)\n",
    "sup_G.remove_node(36)\n",
    "sup_G.remove_node(37)\n",
    "sup_G.remove_node(38)"
   ]
  },
  {
   "cell_type": "code",
   "execution_count": null,
   "metadata": {},
   "outputs": [],
   "source": [
    "sup_lap = nx.laplacian_matrix(sup_G).toarray().astype(np.float32)\n",
    "eig_vals, eig_vecs = eigsh(sup_lap,k=69,\n",
    "                which='SA',\n",
    "                return_eigenvectors=True,)"
   ]
  },
  {
   "cell_type": "code",
   "execution_count": null,
   "metadata": {},
   "outputs": [],
   "source": [
    "for i in range(len(sup_G.nodes)):\n",
    "    plot_supragraph_laplacian(sup_G,eig_vals,eig_vecs[:,i],new_fixed_layout)\n",
    "    plt.title(f\"{i} th eigen vector with eigen value {eig_vals[i]:.2f}\") \n",
    "    plt.savefig(f\"Visu/Visu3/eigen_{i}.png\")\n",
    "    plt.show()\n",
    "    plt.close()"
   ]
  },
  {
   "cell_type": "markdown",
   "metadata": {},
   "source": [
    "## Connected graphs without isolated nodes and with temporal connections (Visu4)"
   ]
  },
  {
   "cell_type": "code",
   "execution_count": null,
   "metadata": {},
   "outputs": [],
   "source": [
    "sup_G.remove_node(39)\n",
    "sup_G.remove_node(40)\n",
    "sup_G.remove_node(41)"
   ]
  },
  {
   "cell_type": "code",
   "execution_count": null,
   "metadata": {},
   "outputs": [],
   "source": [
    "sup_lap = nx.laplacian_matrix(sup_G).toarray().astype(np.float32)\n",
    "eig_vals, eig_vecs = eigsh(sup_lap,k=69,\n",
    "                which='SA',\n",
    "                return_eigenvectors=True,)"
   ]
  },
  {
   "cell_type": "code",
   "execution_count": null,
   "metadata": {},
   "outputs": [],
   "source": [
    "for i in range(len(sup_G.nodes)):\n",
    "    plot_supragraph_laplacian(sup_G,eig_vals,eig_vecs[:,i],new_fixed_layout)\n",
    "    plt.title(f\"{i} th eigen vector with eigen value {eig_vals[i]:.2f}\") \n",
    "    plt.savefig(f\"Visu/Visu4/eigen_{i}.png\")\n",
    "    plt.show()\n",
    "    plt.close()"
   ]
  },
  {
   "cell_type": "markdown",
   "metadata": {},
   "source": [
    "## No temporal connection no isolated nodes (Visu5)"
   ]
  },
  {
   "cell_type": "code",
   "execution_count": null,
   "metadata": {},
   "outputs": [],
   "source": [
    "# remove temporal connections\n",
    "for i in range(10):\n",
    "    sup_G.remove_edge(i,i+13)\n",
    "    sup_G.remove_edge(i+13,i+26)"
   ]
  },
  {
   "cell_type": "code",
   "execution_count": null,
   "metadata": {},
   "outputs": [],
   "source": [
    "sup_lap = nx.laplacian_matrix(sup_G).toarray().astype(np.float32)\n",
    "eig_vals, eig_vecs = eigsh(sup_lap,k=69,\n",
    "                which='SA',\n",
    "                return_eigenvectors=True,)"
   ]
  },
  {
   "cell_type": "code",
   "execution_count": null,
   "metadata": {},
   "outputs": [],
   "source": [
    "for i in range(len(sup_G.nodes)):\n",
    "    plot_supragraph_laplacian(sup_G,eig_vals,eig_vecs[:,i],new_fixed_layout)\n",
    "    plt.title(f\"{i} th eigen vector with eigen value {eig_vals[i]:.2f}\") \n",
    "    plt.savefig(f\"Visu/Visu5/eigen_{i}.png\")\n",
    "    plt.show()\n",
    "    plt.close()"
   ]
  }
 ],
 "metadata": {
  "kernelspec": {
   "display_name": "DGT",
   "language": "python",
   "name": "python3"
  },
  "language_info": {
   "codemirror_mode": {
    "name": "ipython",
    "version": 3
   },
   "file_extension": ".py",
   "mimetype": "text/x-python",
   "name": "python",
   "nbconvert_exporter": "python",
   "pygments_lexer": "ipython3",
   "version": "3.9.17"
  }
 },
 "nbformat": 4,
 "nbformat_minor": 2
}
